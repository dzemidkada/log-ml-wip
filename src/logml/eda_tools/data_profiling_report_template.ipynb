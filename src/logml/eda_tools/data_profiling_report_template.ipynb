{
 "cells": [
  {
   "cell_type": "code",
   "execution_count": null,
   "metadata": {
    "tags": [
     "invisible",
     "parameters"
    ]
   },
   "outputs": [],
   "source": [
    "CFG = None"
   ]
  },
  {
   "cell_type": "code",
   "execution_count": null,
   "metadata": {
    "tags": [
     "invisible"
    ]
   },
   "outputs": [],
   "source": [
    "PROJECT_ID = CFG['global_params']['project_id']\n",
    "INPUT_FILE = CFG['global_params']['dataset_path']\n",
    "RUN_DESCRIPTION = CFG['global_params']['run_description']\n",
    "PROFILER_ID = CFG['temp_params']['profiler_id']"
   ]
  },
  {
   "cell_type": "code",
   "execution_count": 1,
   "metadata": {
    "ExecuteTime": {
     "end_time": "2020-07-31T13:54:51.548194Z",
     "start_time": "2020-07-31T13:54:51.432905Z"
    },
    "tags": [
     "invisible"
    ]
   },
   "outputs": [],
   "source": [
    "import os\n",
    "os.chdir(os.environ['PROJECT_ROOT'])\n",
    "\n",
    "import warnings\n",
    "warnings.filterwarnings('ignore')\n",
    "\n",
    "%load_ext autoreload\n",
    "%autoreload 2"
   ]
  },
  {
   "cell_type": "code",
   "execution_count": null,
   "metadata": {
    "ExecuteTime": {
     "end_time": "2020-07-31T13:54:53.403371Z",
     "start_time": "2020-07-31T13:54:51.993892Z"
    },
    "tags": [
     "invisible"
    ]
   },
   "outputs": [],
   "source": [
    "import numpy as np\n",
    "import pandas as pd\n",
    "import matplotlib.pyplot as plt"
   ]
  },
  {
   "cell_type": "code",
   "execution_count": null,
   "metadata": {
    "tags": [
     "invinsible"
    ]
   },
   "outputs": [],
   "source": [
    "from logml.commons.readers import load_csv\n",
    "\n",
    "# Read input file\n",
    "df = load_csv(INPUT_FILE)"
   ]
  },
  {
   "cell_type": "code",
   "execution_count": null,
   "metadata": {},
   "outputs": [],
   "source": [
    "# Generate a header for this notebook\n",
    "from IPython.display import display, Markdown, Latex\n",
    "from datetime import datetime\n",
    "\n",
    "display(\n",
    "    Markdown(\n",
    "        '\\\\n'.join([\n",
    "            f'# The profiling report from \"{PROFILER_ID}\" for \"{PROJECT_ID}\" project ({RUN_DESCRIPTION}).'\n",
    "        ])\n",
    "    )\n",
    ")"
   ]
  }
 ],
 "metadata": {
  "celltoolbar": "Tags",
  "kernelspec": {
   "display_name": "Python 3",
   "language": "python",
   "name": "python3"
  },
  "language_info": {
   "codemirror_mode": {
    "name": "ipython",
    "version": 3
   },
   "file_extension": ".py",
   "mimetype": "text/x-python",
   "name": "python",
   "nbconvert_exporter": "python",
   "pygments_lexer": "ipython3",
   "version": "3.7.9"
  },
  "toc": {
   "base_numbering": "1",
   "nav_menu": {},
   "number_sections": true,
   "sideBar": true,
   "skip_h1_title": false,
   "title_cell": "DaVinci Performance Report",
   "title_sidebar": "Contents",
   "toc_cell": false,
   "toc_position": {
    "height": "calc(100% - 180px)",
    "left": "10px",
    "top": "150px",
    "width": "287.594px"
   },
   "toc_section_display": false,
   "toc_window_display": true
  },
  "varInspector": {
   "cols": {
    "lenName": 16,
    "lenType": 16,
    "lenVar": 40
   },
   "kernels_config": {
    "python": {
     "delete_cmd_postfix": "",
     "delete_cmd_prefix": "del ",
     "library": "var_list.py",
     "varRefreshCmd": "print(var_dic_list())"
    },
    "r": {
     "delete_cmd_postfix": ") ",
     "delete_cmd_prefix": "rm(",
     "library": "var_list.r",
     "varRefreshCmd": "cat(var_dic_list()) "
    }
   },
   "types_to_exclude": [
    "module",
    "function",
    "builtin_function_or_method",
    "instance",
    "_Feature"
   ],
   "window_display": false
  }
 },
 "nbformat": 4,
 "nbformat_minor": 2
}
