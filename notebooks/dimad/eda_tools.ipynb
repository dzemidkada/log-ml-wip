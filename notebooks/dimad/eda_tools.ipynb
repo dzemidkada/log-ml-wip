{
 "cells": [
  {
   "cell_type": "code",
   "execution_count": null,
   "id": "auburn-myrtle",
   "metadata": {},
   "outputs": [],
   "source": [
    "import os\n",
    "os.chdir(os.environ['PROJECT_ROOT'])\n",
    "%load_ext autoreload\n",
    "%autoreload 2"
   ]
  },
  {
   "cell_type": "code",
   "execution_count": null,
   "id": "nervous-selling",
   "metadata": {},
   "outputs": [],
   "source": [
    "import pandas as pd\n",
    "import numpy as np\n",
    "import matplotlib.pyplot as plt\n",
    "import pathlib\n",
    "import glob"
   ]
  },
  {
   "cell_type": "markdown",
   "id": "medium-tokyo",
   "metadata": {},
   "source": [
    "## pandas-profiling\n",
    "https://github.com/pandas-profiling/pandas-profiling"
   ]
  },
  {
   "cell_type": "code",
   "execution_count": null,
   "id": "functioning-ivory",
   "metadata": {},
   "outputs": [],
   "source": [
    "from pandas_profiling.utils.cache import cache_file\n",
    "\n",
    "# Download 'Titanic' dataset and cache\n",
    "file_name = cache_file(\n",
    "    'titanic.csv',\n",
    "    'https://raw.githubusercontent.com/datasciencedojo/datasets/master/titanic.csv',\n",
    ")"
   ]
  },
  {
   "cell_type": "code",
   "execution_count": null,
   "id": "forced-assistant",
   "metadata": {},
   "outputs": [],
   "source": [
    "from pandas_profiling import ProfileReport\n",
    "\n",
    "df = pd.read_csv(file_name)\n",
    "\n",
    "profile = ProfileReport(df, title='Titanic Dataset', explorative=True)"
   ]
  },
  {
   "cell_type": "markdown",
   "id": "automatic-phoenix",
   "metadata": {},
   "source": [
    "**Export report**"
   ]
  },
  {
   "cell_type": "code",
   "execution_count": null,
   "id": "french-michael",
   "metadata": {},
   "outputs": [],
   "source": [
    "profile.to_file('data/outputs/pp_titanic_report.html')"
   ]
  },
  {
   "cell_type": "markdown",
   "id": "reasonable-forge",
   "metadata": {},
   "source": [
    "**Create widgets**"
   ]
  },
  {
   "cell_type": "code",
   "execution_count": null,
   "id": "distinct-mozambique",
   "metadata": {},
   "outputs": [],
   "source": [
    "profile.to_widgets()"
   ]
  },
  {
   "cell_type": "markdown",
   "id": "incomplete-particular",
   "metadata": {},
   "source": [
    "**Advanced usage**\n",
    "https://pandas-profiling.github.io/pandas-profiling/docs/master/rtd/pages/advanced_usage.html"
   ]
  },
  {
   "cell_type": "markdown",
   "id": "found-window",
   "metadata": {},
   "source": [
    "## sweetviz\n",
    "https://github.com/fbdesignpro/sweetviz"
   ]
  },
  {
   "cell_type": "code",
   "execution_count": null,
   "id": "permanent-optics",
   "metadata": {},
   "outputs": [],
   "source": [
    "import sweetviz as sv\n",
    "report = sv.analyze(df, target_feat='Survived')"
   ]
  },
  {
   "cell_type": "code",
   "execution_count": null,
   "id": "forty-pregnancy",
   "metadata": {},
   "outputs": [],
   "source": [
    "report.show_html('data/outputs/sv_titanic_report.html', open_browser=False)"
   ]
  }
 ],
 "metadata": {
  "kernelspec": {
   "display_name": "Python 3",
   "language": "python",
   "name": "python3"
  },
  "language_info": {
   "codemirror_mode": {
    "name": "ipython",
    "version": 3
   },
   "file_extension": ".py",
   "mimetype": "text/x-python",
   "name": "python",
   "nbconvert_exporter": "python",
   "pygments_lexer": "ipython3",
   "version": "3.7.9"
  }
 },
 "nbformat": 4,
 "nbformat_minor": 5
}
