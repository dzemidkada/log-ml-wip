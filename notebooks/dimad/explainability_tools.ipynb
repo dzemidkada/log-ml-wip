{
 "cells": [
  {
   "cell_type": "code",
   "execution_count": null,
   "id": "hired-wonder",
   "metadata": {},
   "outputs": [],
   "source": [
    "import os\n",
    "os.chdir(os.environ['PROJECT_ROOT'])\n",
    "\n",
    "%load_ext autoreload\n",
    "%autoreload 2"
   ]
  },
  {
   "cell_type": "code",
   "execution_count": null,
   "id": "approximate-folder",
   "metadata": {},
   "outputs": [],
   "source": [
    "import pandas as pd\n",
    "import numpy as np\n",
    "import matplotlib.pyplot as plt\n",
    "import pathlib\n",
    "import glob"
   ]
  },
  {
   "cell_type": "markdown",
   "id": "documentary-poster",
   "metadata": {},
   "source": [
    "## ELI5\n",
    "https://eli5.readthedocs.io/en/latest/"
   ]
  },
  {
   "cell_type": "markdown",
   "id": "welsh-wellington",
   "metadata": {},
   "source": [
    "**Example from: https://eli5.readthedocs.io/en/latest/tutorials/xgboost-titanic.html**"
   ]
  },
  {
   "cell_type": "code",
   "execution_count": null,
   "id": "major-gibraltar",
   "metadata": {},
   "outputs": [],
   "source": [
    "titanic_file = 'D:/Install/miniconda/envs/logml/lib/data/titanic.csv'"
   ]
  },
  {
   "cell_type": "code",
   "execution_count": null,
   "id": "prescribed-detail",
   "metadata": {},
   "outputs": [],
   "source": [
    "import csv\n",
    "\n",
    "with open(titanic_file, 'rt') as f:\n",
    "    data = list(csv.DictReader(f))\n",
    "data[:1]"
   ]
  },
  {
   "cell_type": "code",
   "execution_count": null,
   "id": "increased-patch",
   "metadata": {},
   "outputs": [],
   "source": [
    "from sklearn.utils import shuffle\n",
    "from sklearn.model_selection import train_test_split\n",
    "\n",
    "_all_xs = [{k: v for k, v in row.items() if k != 'Survived'} for row in data]\n",
    "_all_ys = np.array([int(row['Survived']) for row in data])\n",
    "\n",
    "all_xs, all_ys = shuffle(_all_xs, _all_ys, random_state=0)\n",
    "train_xs, valid_xs, train_ys, valid_ys = train_test_split(\n",
    "    all_xs, all_ys, test_size=0.25, random_state=0)\n",
    "print('{} items total, {:.1%} true'.format(len(all_xs), np.mean(all_ys)))"
   ]
  },
  {
   "cell_type": "code",
   "execution_count": null,
   "id": "quarterly-belief",
   "metadata": {},
   "outputs": [],
   "source": [
    "for x in all_xs:\n",
    "    if x['Age']:\n",
    "        x['Age'] = float(x['Age'])\n",
    "    else:\n",
    "        x.pop('Age')\n",
    "    x['Fare'] = float(x['Fare'])\n",
    "    x['SibSp'] = int(x['SibSp'])\n",
    "    x['Parch'] = int(x['Parch'])"
   ]
  },
  {
   "cell_type": "code",
   "execution_count": null,
   "id": "handled-bobby",
   "metadata": {},
   "outputs": [],
   "source": [
    "from lightgbm import LGBMClassifier\n",
    "from sklearn.feature_extraction import DictVectorizer\n",
    "from sklearn.pipeline import make_pipeline\n",
    "from sklearn.model_selection import cross_val_score\n",
    "\n",
    "clf = LGBMClassifier()\n",
    "vec = DictVectorizer()\n",
    "pipeline = make_pipeline(vec, clf)\n",
    "\n",
    "def evaluate(_clf):\n",
    "    scores = cross_val_score(_clf, all_xs, all_ys, scoring='accuracy', cv=10)\n",
    "    print('Accuracy: {:.3f} ± {:.3f}'.format(np.mean(scores), 2 * np.std(scores)))\n",
    "    _clf.fit(train_xs, train_ys)  # so that parts of the original pipeline are fitted\n",
    "\n",
    "evaluate(pipeline)"
   ]
  },
  {
   "cell_type": "markdown",
   "id": "monthly-indianapolis",
   "metadata": {},
   "source": [
    "**Global explainability (feature importance)**"
   ]
  },
  {
   "cell_type": "code",
   "execution_count": null,
   "id": "verbal-aspect",
   "metadata": {},
   "outputs": [],
   "source": [
    "from eli5 import show_weights\n",
    "show_weights(clf, vec=vec, importance_type='gain')"
   ]
  },
  {
   "cell_type": "code",
   "execution_count": null,
   "id": "comparative-funeral",
   "metadata": {},
   "outputs": [],
   "source": [
    "show_weights(clf, vec=vec, importance_type='weight')"
   ]
  },
  {
   "cell_type": "markdown",
   "id": "reliable-niagara",
   "metadata": {},
   "source": [
    "**Local explainability**"
   ]
  },
  {
   "cell_type": "code",
   "execution_count": null,
   "id": "confidential-teaching",
   "metadata": {},
   "outputs": [],
   "source": [
    "from eli5 import show_prediction\n",
    "show_prediction(clf, valid_xs[1], vec=vec, show_feature_values=True)"
   ]
  },
  {
   "cell_type": "code",
   "execution_count": null,
   "id": "preceding-nowhere",
   "metadata": {},
   "outputs": [],
   "source": [
    "show_prediction(clf, valid_xs[110], vec=vec, show_feature_values=True)"
   ]
  },
  {
   "cell_type": "markdown",
   "id": "immune-evaluation",
   "metadata": {},
   "source": [
    "## SHAP\n",
    "https://github.com/slundberg/shap"
   ]
  },
  {
   "cell_type": "code",
   "execution_count": null,
   "id": "elegant-scholarship",
   "metadata": {},
   "outputs": [],
   "source": [
    "import shap\n",
    "from lightgbm import LGBMRegressor\n",
    "\n",
    "# load JS visualization code to notebook\n",
    "shap.initjs()\n",
    "\n",
    "# train XGBoost model\n",
    "X, y = shap.datasets.boston()\n",
    "model = LGBMRegressor().fit(X, y)\n",
    "\n",
    "# explain the model's predictions using SHAP\n",
    "# (same syntax works for LightGBM, CatBoost, scikit-learn and spark models)\n",
    "explainer = shap.TreeExplainer(model)\n",
    "shap_values = explainer.shap_values(X)"
   ]
  },
  {
   "cell_type": "markdown",
   "id": "incorrect-pilot",
   "metadata": {},
   "source": [
    "**Local explainability**"
   ]
  },
  {
   "cell_type": "code",
   "execution_count": null,
   "id": "floral-eating",
   "metadata": {},
   "outputs": [],
   "source": [
    "# visualize the 107 prediction's explanation\n",
    "shap.force_plot(explainer.expected_value, shap_values[107], X.loc[107,:], feature_names=X.columns)"
   ]
  },
  {
   "cell_type": "markdown",
   "id": "young-prisoner",
   "metadata": {},
   "source": [
    "**Global explainability**"
   ]
  },
  {
   "cell_type": "code",
   "execution_count": null,
   "id": "color-letter",
   "metadata": {},
   "outputs": [],
   "source": [
    "shap.summary_plot(shap_values, X)"
   ]
  },
  {
   "cell_type": "code",
   "execution_count": null,
   "id": "extended-sleeve",
   "metadata": {},
   "outputs": [],
   "source": [
    "print(\n",
    "    sorted(\n",
    "        list(zip(model.booster_.feature_importance(importance_type='split'), X.columns)),\n",
    "        key=lambda x: -x[0]\n",
    "    )\n",
    ")"
   ]
  },
  {
   "cell_type": "code",
   "execution_count": null,
   "id": "electrical-revolution",
   "metadata": {},
   "outputs": [],
   "source": [
    "import seaborn as sns\n",
    "\n",
    "sns.scatterplot(X['LSTAT'], y)"
   ]
  },
  {
   "cell_type": "code",
   "execution_count": null,
   "id": "adjusted-tractor",
   "metadata": {},
   "outputs": [],
   "source": [
    "import seaborn as sns\n",
    "\n",
    "sns.scatterplot(X['RM'], y)"
   ]
  }
 ],
 "metadata": {
  "kernelspec": {
   "display_name": "Python 3",
   "language": "python",
   "name": "python3"
  },
  "language_info": {
   "codemirror_mode": {
    "name": "ipython",
    "version": 3
   },
   "file_extension": ".py",
   "mimetype": "text/x-python",
   "name": "python",
   "nbconvert_exporter": "python",
   "pygments_lexer": "ipython3",
   "version": "3.7.9"
  }
 },
 "nbformat": 4,
 "nbformat_minor": 5
}
